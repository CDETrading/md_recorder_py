{
 "cells": [
  {
   "cell_type": "code",
   "execution_count": 2,
   "metadata": {},
   "outputs": [],
   "source": [
    "import pandas as pd\n",
    "import os"
   ]
  },
  {
   "cell_type": "code",
   "execution_count": 6,
   "metadata": {},
   "outputs": [],
   "source": [
    "file_root = \"/home/md_recorder_py/data/\"\n",
    "exchange_name = \"gateio\"\n",
    "date_str = \"20250417\"\n",
    "symbol = \"BTCUSDT\"\n",
    "data_type = \"spot.book_ticker\"\n",
    "file_localtion = os.path.join(file_root, exchange_name, date_str, f\"{symbol}.{data_type}.parquet\")"
   ]
  },
  {
   "cell_type": "code",
   "execution_count": 8,
   "metadata": {},
   "outputs": [],
   "source": [
    "df = pd.read_parquet(f'/home/md_recorder_py/data/gateio/20250417/{files[0]}')"
   ]
  },
  {
   "cell_type": "code",
   "execution_count": 19,
   "metadata": {},
   "outputs": [
    {
     "data": {
      "text/plain": [
       "'spot.book_ticker.SNT_USDT_20250417.parquet'"
      ]
     },
     "execution_count": 19,
     "metadata": {},
     "output_type": "execute_result"
    }
   ],
   "source": [
    "files[0]"
   ]
  },
  {
   "cell_type": "code",
   "execution_count": 12,
   "metadata": {},
   "outputs": [],
   "source": [
    "data_time = [i['time_ms'] * 1_000_000 for i in df['data']]\n",
    "df['exchange_ts_ns'] = data_time"
   ]
  },
  {
   "cell_type": "code",
   "execution_count": 15,
   "metadata": {},
   "outputs": [
    {
     "data": {
      "text/html": [
       "<div>\n",
       "<style scoped>\n",
       "    .dataframe tbody tr th:only-of-type {\n",
       "        vertical-align: middle;\n",
       "    }\n",
       "\n",
       "    .dataframe tbody tr th {\n",
       "        vertical-align: top;\n",
       "    }\n",
       "\n",
       "    .dataframe thead th {\n",
       "        text-align: right;\n",
       "    }\n",
       "</style>\n",
       "<table border=\"1\" class=\"dataframe\">\n",
       "  <thead>\n",
       "    <tr style=\"text-align: right;\">\n",
       "      <th></th>\n",
       "      <th>timestamp</th>\n",
       "      <th>data</th>\n",
       "      <th>exchange_ts_ns</th>\n",
       "    </tr>\n",
       "  </thead>\n",
       "  <tbody>\n",
       "    <tr>\n",
       "      <th>0</th>\n",
       "      <td>1744910692740680664</td>\n",
       "      <td>{'time': 1744910692, 'time_ms': 1744910692748,...</td>\n",
       "      <td>1744910692748000000</td>\n",
       "    </tr>\n",
       "    <tr>\n",
       "      <th>1</th>\n",
       "      <td>1744910692796588691</td>\n",
       "      <td>{'time': 1744910692, 'time_ms': 1744910692804,...</td>\n",
       "      <td>1744910692804000000</td>\n",
       "    </tr>\n",
       "    <tr>\n",
       "      <th>2</th>\n",
       "      <td>1744910692802856371</td>\n",
       "      <td>{'time': 1744910692, 'time_ms': 1744910692810,...</td>\n",
       "      <td>1744910692810000000</td>\n",
       "    </tr>\n",
       "    <tr>\n",
       "      <th>3</th>\n",
       "      <td>1744910692830699779</td>\n",
       "      <td>{'time': 1744910692, 'time_ms': 1744910692838,...</td>\n",
       "      <td>1744910692838000000</td>\n",
       "    </tr>\n",
       "    <tr>\n",
       "      <th>4</th>\n",
       "      <td>1744910692835575869</td>\n",
       "      <td>{'time': 1744910692, 'time_ms': 1744910692843,...</td>\n",
       "      <td>1744910692843000000</td>\n",
       "    </tr>\n",
       "    <tr>\n",
       "      <th>...</th>\n",
       "      <td>...</td>\n",
       "      <td>...</td>\n",
       "      <td>...</td>\n",
       "    </tr>\n",
       "    <tr>\n",
       "      <th>777</th>\n",
       "      <td>1744910960264051231</td>\n",
       "      <td>{'time': 1744910960, 'time_ms': 1744910960259,...</td>\n",
       "      <td>1744910960259000000</td>\n",
       "    </tr>\n",
       "    <tr>\n",
       "      <th>778</th>\n",
       "      <td>1744910960280340639</td>\n",
       "      <td>{'time': 1744910960, 'time_ms': 1744910960279,...</td>\n",
       "      <td>1744910960279000000</td>\n",
       "    </tr>\n",
       "    <tr>\n",
       "      <th>779</th>\n",
       "      <td>1744910960507735617</td>\n",
       "      <td>{'time': 1744910960, 'time_ms': 1744910960504,...</td>\n",
       "      <td>1744910960504000000</td>\n",
       "    </tr>\n",
       "    <tr>\n",
       "      <th>780</th>\n",
       "      <td>1744910960511454833</td>\n",
       "      <td>{'time': 1744910960, 'time_ms': 1744910960511,...</td>\n",
       "      <td>1744910960511000000</td>\n",
       "    </tr>\n",
       "    <tr>\n",
       "      <th>781</th>\n",
       "      <td>1744910960518863794</td>\n",
       "      <td>{'time': 1744910960, 'time_ms': 1744910960521,...</td>\n",
       "      <td>1744910960521000000</td>\n",
       "    </tr>\n",
       "  </tbody>\n",
       "</table>\n",
       "<p>782 rows × 3 columns</p>\n",
       "</div>"
      ],
      "text/plain": [
       "               timestamp                                               data  \\\n",
       "0    1744910692740680664  {'time': 1744910692, 'time_ms': 1744910692748,...   \n",
       "1    1744910692796588691  {'time': 1744910692, 'time_ms': 1744910692804,...   \n",
       "2    1744910692802856371  {'time': 1744910692, 'time_ms': 1744910692810,...   \n",
       "3    1744910692830699779  {'time': 1744910692, 'time_ms': 1744910692838,...   \n",
       "4    1744910692835575869  {'time': 1744910692, 'time_ms': 1744910692843,...   \n",
       "..                   ...                                                ...   \n",
       "777  1744910960264051231  {'time': 1744910960, 'time_ms': 1744910960259,...   \n",
       "778  1744910960280340639  {'time': 1744910960, 'time_ms': 1744910960279,...   \n",
       "779  1744910960507735617  {'time': 1744910960, 'time_ms': 1744910960504,...   \n",
       "780  1744910960511454833  {'time': 1744910960, 'time_ms': 1744910960511,...   \n",
       "781  1744910960518863794  {'time': 1744910960, 'time_ms': 1744910960521,...   \n",
       "\n",
       "          exchange_ts_ns  \n",
       "0    1744910692748000000  \n",
       "1    1744910692804000000  \n",
       "2    1744910692810000000  \n",
       "3    1744910692838000000  \n",
       "4    1744910692843000000  \n",
       "..                   ...  \n",
       "777  1744910960259000000  \n",
       "778  1744910960279000000  \n",
       "779  1744910960504000000  \n",
       "780  1744910960511000000  \n",
       "781  1744910960521000000  \n",
       "\n",
       "[782 rows x 3 columns]"
      ]
     },
     "execution_count": 15,
     "metadata": {},
     "output_type": "execute_result"
    }
   ],
   "source": [
    "df"
   ]
  },
  {
   "cell_type": "code",
   "execution_count": 16,
   "metadata": {},
   "outputs": [],
   "source": [
    "df['data_latency_ns'] = df['timestamp'] - df['exchange_ts_ns']\n"
   ]
  },
  {
   "cell_type": "code",
   "execution_count": 18,
   "metadata": {},
   "outputs": [
    {
     "data": {
      "text/html": [
       "<div>\n",
       "<style scoped>\n",
       "    .dataframe tbody tr th:only-of-type {\n",
       "        vertical-align: middle;\n",
       "    }\n",
       "\n",
       "    .dataframe tbody tr th {\n",
       "        vertical-align: top;\n",
       "    }\n",
       "\n",
       "    .dataframe thead th {\n",
       "        text-align: right;\n",
       "    }\n",
       "</style>\n",
       "<table border=\"1\" class=\"dataframe\">\n",
       "  <thead>\n",
       "    <tr style=\"text-align: right;\">\n",
       "      <th></th>\n",
       "      <th>timestamp</th>\n",
       "      <th>data</th>\n",
       "      <th>exchange_ts_ns</th>\n",
       "      <th>data_latency_ns</th>\n",
       "    </tr>\n",
       "  </thead>\n",
       "  <tbody>\n",
       "    <tr>\n",
       "      <th>777</th>\n",
       "      <td>1744910960264051231</td>\n",
       "      <td>{'time': 1744910960, 'time_ms': 1744910960259,...</td>\n",
       "      <td>1744910960259000000</td>\n",
       "      <td>5051231</td>\n",
       "    </tr>\n",
       "    <tr>\n",
       "      <th>778</th>\n",
       "      <td>1744910960280340639</td>\n",
       "      <td>{'time': 1744910960, 'time_ms': 1744910960279,...</td>\n",
       "      <td>1744910960279000000</td>\n",
       "      <td>1340639</td>\n",
       "    </tr>\n",
       "    <tr>\n",
       "      <th>779</th>\n",
       "      <td>1744910960507735617</td>\n",
       "      <td>{'time': 1744910960, 'time_ms': 1744910960504,...</td>\n",
       "      <td>1744910960504000000</td>\n",
       "      <td>3735617</td>\n",
       "    </tr>\n",
       "    <tr>\n",
       "      <th>780</th>\n",
       "      <td>1744910960511454833</td>\n",
       "      <td>{'time': 1744910960, 'time_ms': 1744910960511,...</td>\n",
       "      <td>1744910960511000000</td>\n",
       "      <td>454833</td>\n",
       "    </tr>\n",
       "    <tr>\n",
       "      <th>781</th>\n",
       "      <td>1744910960518863794</td>\n",
       "      <td>{'time': 1744910960, 'time_ms': 1744910960521,...</td>\n",
       "      <td>1744910960521000000</td>\n",
       "      <td>-2136206</td>\n",
       "    </tr>\n",
       "  </tbody>\n",
       "</table>\n",
       "</div>"
      ],
      "text/plain": [
       "               timestamp                                               data  \\\n",
       "777  1744910960264051231  {'time': 1744910960, 'time_ms': 1744910960259,...   \n",
       "778  1744910960280340639  {'time': 1744910960, 'time_ms': 1744910960279,...   \n",
       "779  1744910960507735617  {'time': 1744910960, 'time_ms': 1744910960504,...   \n",
       "780  1744910960511454833  {'time': 1744910960, 'time_ms': 1744910960511,...   \n",
       "781  1744910960518863794  {'time': 1744910960, 'time_ms': 1744910960521,...   \n",
       "\n",
       "          exchange_ts_ns  data_latency_ns  \n",
       "777  1744910960259000000          5051231  \n",
       "778  1744910960279000000          1340639  \n",
       "779  1744910960504000000          3735617  \n",
       "780  1744910960511000000           454833  \n",
       "781  1744910960521000000         -2136206  "
      ]
     },
     "execution_count": 18,
     "metadata": {},
     "output_type": "execute_result"
    }
   ],
   "source": [
    "df.tail()"
   ]
  },
  {
   "cell_type": "code",
   "execution_count": null,
   "metadata": {},
   "outputs": [],
   "source": []
  }
 ],
 "metadata": {
  "kernelspec": {
   "display_name": "venv",
   "language": "python",
   "name": "python3"
  },
  "language_info": {
   "codemirror_mode": {
    "name": "ipython",
    "version": 3
   },
   "file_extension": ".py",
   "mimetype": "text/x-python",
   "name": "python",
   "nbconvert_exporter": "python",
   "pygments_lexer": "ipython3",
   "version": "3.12.3"
  }
 },
 "nbformat": 4,
 "nbformat_minor": 2
}
